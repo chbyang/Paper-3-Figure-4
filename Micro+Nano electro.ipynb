{
 "cells": [
  {
   "cell_type": "code",
   "execution_count": 161,
   "metadata": {},
   "outputs": [],
   "source": [
    "import pandas as pd \n",
    "import numpy as np\n",
    "from matplotlib import pyplot as plt\n",
    "\n",
    "inward = pd.read_csv('D:/2probe/clean/micro+nano electro/inward_cut_back.csv')\n",
    "reverse = pd.read_csv('D:/2probe/clean/micro+nano electro/reverse_cut_back.csv')"
   ]
  },
  {
   "cell_type": "code",
   "execution_count": 162,
   "metadata": {},
   "outputs": [
    {
     "data": {
      "text/plain": [
       "88931"
      ]
     },
     "execution_count": 162,
     "metadata": {},
     "output_type": "execute_result"
    }
   ],
   "source": [
    "len(inward)"
   ]
  },
  {
   "cell_type": "code",
   "execution_count": 163,
   "metadata": {},
   "outputs": [
    {
     "data": {
      "text/plain": [
       "82865"
      ]
     },
     "execution_count": 163,
     "metadata": {},
     "output_type": "execute_result"
    }
   ],
   "source": [
    "len(reverse)"
   ]
  },
  {
   "cell_type": "code",
   "execution_count": 164,
   "metadata": {},
   "outputs": [
    {
     "data": {
      "text/html": [
       "<div>\n",
       "<style scoped>\n",
       "    .dataframe tbody tr th:only-of-type {\n",
       "        vertical-align: middle;\n",
       "    }\n",
       "\n",
       "    .dataframe tbody tr th {\n",
       "        vertical-align: top;\n",
       "    }\n",
       "\n",
       "    .dataframe thead th {\n",
       "        text-align: right;\n",
       "    }\n",
       "</style>\n",
       "<table border=\"1\" class=\"dataframe\">\n",
       "  <thead>\n",
       "    <tr style=\"text-align: right;\">\n",
       "      <th></th>\n",
       "      <th>time</th>\n",
       "      <th>R</th>\n",
       "    </tr>\n",
       "  </thead>\n",
       "  <tbody>\n",
       "    <tr>\n",
       "      <th>0</th>\n",
       "      <td>0.00000</td>\n",
       "      <td>6.85344</td>\n",
       "    </tr>\n",
       "    <tr>\n",
       "      <th>1</th>\n",
       "      <td>0.42612</td>\n",
       "      <td>6.85030</td>\n",
       "    </tr>\n",
       "    <tr>\n",
       "      <th>2</th>\n",
       "      <td>0.85212</td>\n",
       "      <td>6.84846</td>\n",
       "    </tr>\n",
       "    <tr>\n",
       "      <th>3</th>\n",
       "      <td>1.27811</td>\n",
       "      <td>6.84660</td>\n",
       "    </tr>\n",
       "    <tr>\n",
       "      <th>4</th>\n",
       "      <td>1.70410</td>\n",
       "      <td>6.84514</td>\n",
       "    </tr>\n",
       "  </tbody>\n",
       "</table>\n",
       "</div>"
      ],
      "text/plain": [
       "      time        R\n",
       "0  0.00000  6.85344\n",
       "1  0.42612  6.85030\n",
       "2  0.85212  6.84846\n",
       "3  1.27811  6.84660\n",
       "4  1.70410  6.84514"
      ]
     },
     "execution_count": 164,
     "metadata": {},
     "output_type": "execute_result"
    }
   ],
   "source": [
    "inward.head()"
   ]
  },
  {
   "cell_type": "code",
   "execution_count": 165,
   "metadata": {},
   "outputs": [
    {
     "data": {
      "text/html": [
       "<div>\n",
       "<style scoped>\n",
       "    .dataframe tbody tr th:only-of-type {\n",
       "        vertical-align: middle;\n",
       "    }\n",
       "\n",
       "    .dataframe tbody tr th {\n",
       "        vertical-align: top;\n",
       "    }\n",
       "\n",
       "    .dataframe thead th {\n",
       "        text-align: right;\n",
       "    }\n",
       "</style>\n",
       "<table border=\"1\" class=\"dataframe\">\n",
       "  <thead>\n",
       "    <tr style=\"text-align: right;\">\n",
       "      <th></th>\n",
       "      <th>time</th>\n",
       "      <th>R</th>\n",
       "    </tr>\n",
       "  </thead>\n",
       "  <tbody>\n",
       "    <tr>\n",
       "      <th>0</th>\n",
       "      <td>0.00000</td>\n",
       "      <td>6.85344</td>\n",
       "    </tr>\n",
       "    <tr>\n",
       "      <th>1</th>\n",
       "      <td>0.42612</td>\n",
       "      <td>6.85030</td>\n",
       "    </tr>\n",
       "    <tr>\n",
       "      <th>2</th>\n",
       "      <td>0.85212</td>\n",
       "      <td>6.84846</td>\n",
       "    </tr>\n",
       "    <tr>\n",
       "      <th>3</th>\n",
       "      <td>1.27811</td>\n",
       "      <td>6.84660</td>\n",
       "    </tr>\n",
       "    <tr>\n",
       "      <th>4</th>\n",
       "      <td>1.70410</td>\n",
       "      <td>6.84514</td>\n",
       "    </tr>\n",
       "  </tbody>\n",
       "</table>\n",
       "</div>"
      ],
      "text/plain": [
       "      time        R\n",
       "0  0.00000  6.85344\n",
       "1  0.42612  6.85030\n",
       "2  0.85212  6.84846\n",
       "3  1.27811  6.84660\n",
       "4  1.70410  6.84514"
      ]
     },
     "execution_count": 165,
     "metadata": {},
     "output_type": "execute_result"
    }
   ],
   "source": [
    "inward.head()"
   ]
  },
  {
   "cell_type": "code",
   "execution_count": 166,
   "metadata": {},
   "outputs": [
    {
     "data": {
      "text/html": [
       "<div>\n",
       "<style scoped>\n",
       "    .dataframe tbody tr th:only-of-type {\n",
       "        vertical-align: middle;\n",
       "    }\n",
       "\n",
       "    .dataframe tbody tr th {\n",
       "        vertical-align: top;\n",
       "    }\n",
       "\n",
       "    .dataframe thead th {\n",
       "        text-align: right;\n",
       "    }\n",
       "</style>\n",
       "<table border=\"1\" class=\"dataframe\">\n",
       "  <thead>\n",
       "    <tr style=\"text-align: right;\">\n",
       "      <th></th>\n",
       "      <th>time</th>\n",
       "      <th>R</th>\n",
       "    </tr>\n",
       "  </thead>\n",
       "  <tbody>\n",
       "    <tr>\n",
       "      <th>82860</th>\n",
       "      <td>35303.19710</td>\n",
       "      <td>9.482286</td>\n",
       "    </tr>\n",
       "    <tr>\n",
       "      <th>82861</th>\n",
       "      <td>35303.62310</td>\n",
       "      <td>9.482892</td>\n",
       "    </tr>\n",
       "    <tr>\n",
       "      <th>82862</th>\n",
       "      <td>35304.05011</td>\n",
       "      <td>9.482316</td>\n",
       "    </tr>\n",
       "    <tr>\n",
       "      <th>82863</th>\n",
       "      <td>35304.47611</td>\n",
       "      <td>9.482131</td>\n",
       "    </tr>\n",
       "    <tr>\n",
       "      <th>82864</th>\n",
       "      <td>35304.90109</td>\n",
       "      <td>9.481621</td>\n",
       "    </tr>\n",
       "  </tbody>\n",
       "</table>\n",
       "</div>"
      ],
      "text/plain": [
       "              time         R\n",
       "82860  35303.19710  9.482286\n",
       "82861  35303.62310  9.482892\n",
       "82862  35304.05011  9.482316\n",
       "82863  35304.47611  9.482131\n",
       "82864  35304.90109  9.481621"
      ]
     },
     "execution_count": 166,
     "metadata": {},
     "output_type": "execute_result"
    }
   ],
   "source": [
    "\n",
    "reverse.tail()"
   ]
  },
  {
   "cell_type": "code",
   "execution_count": 167,
   "metadata": {},
   "outputs": [],
   "source": [
    "#inward.to_csv('D:/2probe/clean/micro+nano electro/inward_cut_back.csv', index = False)\n",
    "#reverse.to_csv('D:/2probe/clean/micro+nano electro/reverse_cut_back.csv', index = False)"
   ]
  },
  {
   "cell_type": "code",
   "execution_count": 168,
   "metadata": {},
   "outputs": [],
   "source": [
    "T=33.73\n",
    "P1=1000\n",
    "P2=1000\n",
    "accuracy=1.0  #lowest and highest point in every cycle is not a single point\n",
    "# it is in fact average of several measuremnts during 1.0s, to avoid outlier"
   ]
  },
  {
   "cell_type": "code",
   "execution_count": 169,
   "metadata": {},
   "outputs": [],
   "source": [
    "def low_high1(inward):\n",
    "    low=[]\n",
    "    high=[]\n",
    "    low_ave=[]\n",
    "    high_ave=[]\n",
    "    \n",
    "    low_start=T/2.0\n",
    "    high_start=T\n",
    "    for i in range(P1):\n",
    "        low.append(inward.loc[(inward['time']>low_start-(accuracy/2.0))&(inward['time']<low_start+(accuracy/2.0)),'R'].mean())\n",
    "        high.append(inward.loc[(inward['time']>high_start-(accuracy/2.0))&(inward['time']<high_start+(accuracy/2.0)),'R'].mean())\n",
    "        low_start+=T\n",
    "        high_start+=T\n",
    "        if i%50==49:\n",
    "            low_ave.append(np.average(low[i-49:i+1]))\n",
    "            high_ave.append(np.average(high[i-49:i+1]))\n",
    "        \n",
    "    return low,high,low_ave,high_ave"
   ]
  },
  {
   "cell_type": "code",
   "execution_count": 170,
   "metadata": {},
   "outputs": [
    {
     "data": {
      "text/plain": [
       "[<matplotlib.lines.Line2D at 0x213f51cb748>]"
      ]
     },
     "execution_count": 170,
     "metadata": {},
     "output_type": "execute_result"
    },
    {
     "data": {
      "image/png": "[encoded data removed]",
      "text/plain": [
       "<Figure size 432x288 with 1 Axes>"
      ]
     },
     "metadata": {
      "needs_background": "light"
     },
     "output_type": "display_data"
    }
   ],
   "source": [
    "low,high,low_ave,high_ave=low_high1(inward)\n",
    "#plot lowest and highest point of every cycle\n",
    "plt.plot(low)\n",
    "plt.plot(high)"
   ]
  },
  {
   "cell_type": "code",
   "execution_count": 171,
   "metadata": {},
   "outputs": [
    {
     "data": {
      "text/plain": [
       "[<matplotlib.lines.Line2D at 0x213f6823470>]"
      ]
     },
     "execution_count": 171,
     "metadata": {},
     "output_type": "execute_result"
    },
    {
     "data": {
      "image/png": "[encoded data removed]",
      "text/plain": [
       "<Figure size 432x288 with 1 Axes>"
      ]
     },
     "metadata": {
      "needs_background": "light"
     },
     "output_type": "display_data"
    }
   ],
   "source": [
    "#plot average oflowest and highest point of every 50 cycles\n",
    "plt.plot(low_ave)\n",
    "plt.plot(high_ave)"
   ]
  },
  {
   "cell_type": "code",
   "execution_count": 172,
   "metadata": {},
   "outputs": [
    {
     "data": {
      "image/png": "[encoded data removed]",
      "text/plain": [
       "<Figure size 432x288 with 1 Axes>"
      ]
     },
     "metadata": {
      "needs_background": "light"
     },
     "output_type": "display_data"
    }
   ],
   "source": [
    "cycle=list(range(len(high_ave)))\n",
    "cycle.append(len(high_ave)-1)\n",
    "high_ave.append(low_ave[-1])\n",
    "df=pd.DataFrame({'No. of cycles':cycle,'R':high_ave})\n",
    "origin=df['R'][0]\n",
    "df['R']=(df['R']/origin-1)*100\n",
    "df['No. of cycles']*=50\n",
    "plt.plot(df['No. of cycles'],df['R'])\n",
    "df.to_csv('D:/2probe/clean/micro+nano electro/inward_to_first_high.csv', index = False)"
   ]
  },
  {
   "cell_type": "code",
   "execution_count": 173,
   "metadata": {},
   "outputs": [],
   "source": [
    "def low_high2(reverse):\n",
    "    low=[]\n",
    "    high=[]\n",
    "    low_ave=[]\n",
    "    high_ave=[]\n",
    "    \n",
    "    low_start=T\n",
    "    high_start=T/2.0\n",
    "    for i in range(P1):\n",
    "        low.append(reverse.loc[(reverse['time']>low_start-(accuracy/2.0))&(reverse['time']<low_start+(accuracy/2.0)),'R'].mean())\n",
    "        high.append(reverse.loc[(reverse['time']>high_start-(accuracy/2.0))&(reverse['time']<high_start+(accuracy/2.0)),'R'].mean())\n",
    "        low_start+=T\n",
    "        high_start+=T\n",
    "        if i%50==49:\n",
    "            low_ave.append(np.average(low[i-49:i+1]))\n",
    "            high_ave.append(np.average(high[i-49:i+1]))\n",
    "        \n",
    "    return low,high,low_ave,high_ave"
   ]
  },
  {
   "cell_type": "code",
   "execution_count": 174,
   "metadata": {},
   "outputs": [
    {
     "data": {
      "text/plain": [
       "[<matplotlib.lines.Line2D at 0x213f6ba7e10>]"
      ]
     },
     "execution_count": 174,
     "metadata": {},
     "output_type": "execute_result"
    },
    {
     "data": {
      "image/png": "[encoded data removed]",
      "text/plain": [
       "<Figure size 432x288 with 1 Axes>"
      ]
     },
     "metadata": {
      "needs_background": "light"
     },
     "output_type": "display_data"
    }
   ],
   "source": [
    "low,high,low_ave,high_ave=low_high2(reverse)\n",
    "\n",
    "plt.plot(low)\n",
    "plt.plot(high)"
   ]
  },
  {
   "cell_type": "code",
   "execution_count": 175,
   "metadata": {},
   "outputs": [
    {
     "data": {
      "text/plain": [
       "[<matplotlib.lines.Line2D at 0x213f6c0af98>]"
      ]
     },
     "execution_count": 175,
     "metadata": {},
     "output_type": "execute_result"
    },
    {
     "data": {
      "image/png": "[encoded data removed]",
      "text/plain": [
       "<Figure size 432x288 with 1 Axes>"
      ]
     },
     "metadata": {
      "needs_background": "light"
     },
     "output_type": "display_data"
    }
   ],
   "source": [
    "plt.plot(low_ave)\n",
    "plt.plot(high_ave)"
   ]
  },
  {
   "cell_type": "code",
   "execution_count": 176,
   "metadata": {},
   "outputs": [
    {
     "data": {
      "image/png": "[encoded data removed]",
      "text/plain": [
       "<Figure size 432x288 with 1 Axes>"
      ]
     },
     "metadata": {
      "needs_background": "light"
     },
     "output_type": "display_data"
    }
   ],
   "source": [
    "cycle=list(range(len(low_ave)))\n",
    "cycle.append(len(low_ave)-1)\n",
    "low_ave.append(high_ave[-1])\n",
    "df=pd.DataFrame({'No. of cycles':cycle,'R':low_ave})\n",
    "origin=df['R'][0]\n",
    "df['R']=(df['R']/origin-1)*100\n",
    "df['No. of cycles']*=50\n",
    "plt.plot(df['No. of cycles'],df['R'])\n",
    "df.to_csv('D:/2probe/clean/micro+nano electro/reverse_to_first_low.csv', index = False)"
   ]
  },
  {
   "cell_type": "code",
   "execution_count": null,
   "metadata": {},
   "outputs": [],
   "source": []
  },
  {
   "cell_type": "code",
   "execution_count": null,
   "metadata": {},
   "outputs": [],
   "source": []
  }
 ],
 "metadata": {
  "kernelspec": {
   "display_name": "Python 3",
   "language": "python",
   "name": "python3"
  },
  "language_info": {
   "codemirror_mode": {
    "name": "ipython",
    "version": 3
   },
   "file_extension": ".py",
   "mimetype": "text/x-python",
   "name": "python",
   "nbconvert_exporter": "python",
   "pygments_lexer": "ipython3",
   "version": "3.7.3"
  }
 },
 "nbformat": 4,
 "nbformat_minor": 2
}
