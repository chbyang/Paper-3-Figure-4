{
 "cells": [
  {
   "cell_type": "code",
   "execution_count": 22,
   "metadata": {},
   "outputs": [],
   "source": [
    "import cv2\n",
    "import matplotlib.pyplot as plt"
   ]
  },
  {
   "cell_type": "markdown",
   "metadata": {},
   "source": [
    "Read video from file and save the video into a serious of images"
   ]
  },
  {
   "cell_type": "code",
   "execution_count": 7,
   "metadata": {},
   "outputs": [
    {
     "name": "stdout",
     "output_type": "stream",
     "text": [
      "1175\n"
     ]
    }
   ],
   "source": [
    "vidcap = cv2.VideoCapture('D:/2probe/change radius/inward/IMG_4856.mov')\n",
    "success,image = vidcap.read()\n",
    "count = 0\n",
    "while success:\n",
    "    cv2.imwrite(\"D:/2probe/change radius/inward/images/%d.jpg\" % count, image)     # save frame as JPEG file      \n",
    "    success,image = vidcap.read()\n",
    "    count += 1\n",
    "    if count>1174: break\n",
    "print(count)\n"
   ]
  },
  {
   "cell_type": "markdown",
   "metadata": {},
   "source": [
    "photo labed No 30 is start of a cycle. t=0.  \n",
    "photo labed No 1474 is middle of a cycle. t=T/2.\n",
    "T=(770.32/8) s"
   ]
  },
  {
   "cell_type": "code",
   "execution_count": 8,
   "metadata": {},
   "outputs": [],
   "source": [
    "from matplotlib.pyplot import imshow\n",
    "import numpy as np\n",
    "from PIL import Image\n",
    "\n",
    "pil_im = Image.open('D:/2probe/change radius/inward/images/32.jpg', 'r')\n",
    "pil_im.show()\n",
    "\n",
    "pil_im = Image.open('D:/2probe/change radius/inward/images/1474.jpg', 'r')\n",
    "pil_im.show()"
   ]
  },
  {
   "cell_type": "markdown",
   "metadata": {},
   "source": [
    "Because number of photo increase linearly with time, given number of photo we can get t.  \n",
    "In No 30, edge to edge distance is 5.2 cm  \n",
    "In No 1474, edge to edge distance is 1.25 cm  \n",
    "Edge to edge distance decease linearly with time, so given number of photo we can get edge to edge distance in that photo"
   ]
  },
  {
   "cell_type": "code",
   "execution_count": 20,
   "metadata": {},
   "outputs": [],
   "source": [
    "Dis_start=5.2\n",
    "Dis_end=1.25\n",
    "Photo_start=32\n",
    "Photo_end=1474\n",
    "T=(770.32/8)"
   ]
  },
  {
   "cell_type": "code",
   "execution_count": 21,
   "metadata": {},
   "outputs": [
    {
     "name": "stdout",
     "output_type": "stream",
     "text": [
      "Photo Number:  [32, 320, 609, 897, 1186, 1474]\n",
      "Edge to edge distance:  [5.2, 4.411095700416089, 3.6194521497919556, 2.8305478502080446, 2.0389042995839115, 1.25]\n",
      "Time:  [0.0, 9.629000000000001, 19.258000000000003, 28.887, 38.516000000000005, 48.145]\n"
     ]
    }
   ],
   "source": [
    "#how many pionts in R curvature figure(T/2)?\n",
    "No=5\n",
    "photos=[Photo_start]\n",
    "distances=[5.2]\n",
    "times=[0.0]\n",
    "for i in range(1,No+1):\n",
    "    Photo=round((Photo_end-Photo_start)/5*i+Photo_start)\n",
    "    photos.append(Photo)\n",
    "    distances.append((Photo-Photo_start)/(Photo_end-Photo_start)*(Dis_end-Dis_start)+Dis_start)\n",
    "    times.append(T/2*i/No)\n",
    "print(\"Photo Number: \",photos)\n",
    "print(\"Edge to edge distance: \",distances)\n",
    "print(\"Time: \",times)\n",
    "\n",
    "        "
   ]
  },
  {
   "cell_type": "code",
   "execution_count": 59,
   "metadata": {},
   "outputs": [
    {
     "data": {
      "text/plain": [
       "[<matplotlib.lines.Line2D at 0x26c6158d9b0>]"
      ]
     },
     "execution_count": 59,
     "metadata": {},
     "output_type": "execute_result"
    },
    {
     "data": {
      "image/png": "[encoded data removed]",
      "text/plain": [
       "<Figure size 432x288 with 1 Axes>"
      ]
     },
     "metadata": {
      "needs_background": "light"
     },
     "output_type": "display_data"
    }
   ],
   "source": [
    "#measure Rc from photos, in cm\n",
    "#add Photo 176 between photo 32 and photo 320\n",
    "times=[0.0, 4.8145, 9.629, 19.258, 28.887, 38.516, 48.145]\n",
    "Rc=[8.57,2.65, 1.68,1.19,0.97,0.80,0.65]\n",
    "plt.plot(Rc,times)"
   ]
  },
  {
   "cell_type": "code",
   "execution_count": 60,
   "metadata": {},
   "outputs": [
    {
     "name": "stdout",
     "output_type": "stream",
     "text": [
      "Radius of Curvature in TWO periods [8.57, 2.65, 1.68, 1.19, 0.97, 0.8, 0.65, 0.8, 0.97, 1.19, 1.68, 2.65, 8.57, 2.65, 1.68, 1.19, 0.97, 0.8, 0.65, 0.8, 0.97, 1.19, 1.68, 2.65, 8.57]\n",
      "Time axis in TWO periods [0.0, 4.8145, 9.629, 19.258, 28.887, 38.516, 48.145, 57.77400000000001, 67.403, 77.03200000000001, 86.661, 91.47550000000001, 96.29, 101.1045, 105.91900000000001, 115.548, 125.177, 134.806, 144.435, 154.06400000000002, 163.693, 173.322, 182.95100000000002, 187.76550000000003, 192.58]\n"
     ]
    }
   ],
   "source": [
    "temp=Rc[::-1][1:]\n",
    "Rc_T=Rc+temp\n",
    "Rc_2T=Rc_T+Rc_T[1:]\n",
    "print(\"Radius of Curvature in TWO periods: \",Rc_2T)\n",
    "for i in range(No,-1,-1):\n",
    "    times.append(T-times[i])\n",
    "time_2T=times\n",
    "for i in range(1,len(times)):\n",
    "    time_2T.append(times[i]+T)\n",
    "print(\"Time axis in TWO periods: \",time_2T)"
   ]
  },
  {
   "cell_type": "code",
   "execution_count": 61,
   "metadata": {},
   "outputs": [
    {
     "data": {
      "text/plain": [
       "[<matplotlib.lines.Line2D at 0x26c615ecb00>]"
      ]
     },
     "execution_count": 61,
     "metadata": {},
     "output_type": "execute_result"
    },
    {
     "data": {
      "image/png": "[encoded data removed]",
      "text/plain": [
       "<Figure size 432x288 with 1 Axes>"
      ]
     },
     "metadata": {
      "needs_background": "light"
     },
     "output_type": "display_data"
    }
   ],
   "source": [
    "plt.plot(Rc_2T,time_2T)"
   ]
  },
  {
   "cell_type": "markdown",
   "metadata": {},
   "source": [
    "Here we can relation between time and Rc(radius of Curvature). We also have relation of time vs R in origin file. We can now have a figure of R vs Rc "
   ]
  },
  {
   "cell_type": "code",
   "execution_count": 63,
   "metadata": {},
   "outputs": [],
   "source": [
    "import pandas as pd\n",
    "df = pd.DataFrame({'Rc': Rc_2T, 'Time': time_2T}) \n",
    "df.to_csv('D:/2probe/change radius/Rc_vs_Time.csv', index = False)"
   ]
  },
  {
   "cell_type": "code",
   "execution_count": null,
   "metadata": {},
   "outputs": [],
   "source": []
  }
 ],
 "metadata": {
  "kernelspec": {
   "display_name": "Python 3",
   "language": "python",
   "name": "python3"
  },
  "language_info": {
   "codemirror_mode": {
    "name": "ipython",
    "version": 3
   },
   "file_extension": ".py",
   "mimetype": "text/x-python",
   "name": "python",
   "nbconvert_exporter": "python",
   "pygments_lexer": "ipython3",
   "version": "3.7.3"
  }
 },
 "nbformat": 4,
 "nbformat_minor": 2
}
